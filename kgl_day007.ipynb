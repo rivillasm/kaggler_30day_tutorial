{
 "cells": [
  {
   "cell_type": "code",
   "execution_count": null,
   "metadata": {},
   "outputs": [],
   "source": [
    "graph.set_title(\"Results of 500 slot machine pulls\")\n",
    "graph.set_ylim(0,400)\n",
    "graph.set_ylabel(\"Balance\")\n",
    "ticks=graph.get_yticks()                              # change the symbol for ticks in a graph\n",
    "new_labels=['${}'.format(int(amt)) for amt in ticks]  #\n",
    "grapy.set_yticklables(new_labels)"
   ]
  },
  {
   "cell_type": "code",
   "execution_count": 2,
   "metadata": {},
   "outputs": [
    {
     "data": {
      "text/plain": [
       "[{'name': 'Peach',\n",
       "  'items': ['green shell', 'banana', 'green shell'],\n",
       "  'finish': 3},\n",
       " {'name': 'Bowser', 'items': ['green shell'], 'finish': 1},\n",
       " {'name': None, 'items': ['mushroom'], 'finish': 2},\n",
       " {'name': 'Toad', 'items': ['green shell', 'mushroom'], 'finish': 1}]"
      ]
     },
     "execution_count": 2,
     "metadata": {},
     "output_type": "execute_result"
    }
   ],
   "source": [
    "list1=[\n",
    "    {'name': 'Peach', 'items': ['green shell', 'banana', 'green shell',], 'finish': 3},\n",
    "    {'name': 'Bowser', 'items': ['green shell',], 'finish': 1},\n",
    "    # Sometimes the racer's name wasn't recorded\n",
    "    {'name': None, 'items': ['mushroom',], 'finish': 2},\n",
    "    {'name': 'Toad', 'items': ['green shell', 'mushroom'], 'finish': 1},\n",
    "]\n",
    "list1"
   ]
  },
  {
   "cell_type": "code",
   "execution_count": 19,
   "metadata": {},
   "outputs": [
    {
     "data": {
      "text/plain": [
       "{'mushroom': 1, 'green shell': 2}"
      ]
     },
     "execution_count": 19,
     "metadata": {},
     "output_type": "execute_result"
    }
   ],
   "source": [
    "from collections import Counter\n",
    "\n",
    "list_items=[]\n",
    "for each_dict in list1:\n",
    "    if each_dict['finish']==1:\n",
    "        list_items.append(each_dict['items'])\n",
    "flat_list=[item for sublist in list_items for item in sublist]     # flat the list   \n",
    "\n",
    "#dictionary_results=Counter(flat_list)               # option1\n",
    "#dict(dictionary_results)\n",
    "\n",
    "dict((x,flat_list.count(x)) for x in set(flat_list)) # option2\n"
   ]
  },
  {
   "cell_type": "code",
   "execution_count": null,
   "metadata": {},
   "outputs": [],
   "source": [
    "def hand_total(hand):\n",
    "    \"\"\"\n",
    "    Return True if hand_1 beats hand_2, and False otherwise.\n",
    "    \n",
    "    In order for hand_1 to beat hand_2 the following must be true:\n",
    "    - The total of hand_1 must not exceed 21\n",
    "    - The total of hand_1 must exceed the total of hand_2 OR hand_2's total must exceed 21\n",
    "    \n",
    "    Hands are represented as a list of cards. Each card is represented by a string.\n",
    "    \n",
    "    When adding up a hand's total, cards with numbers count for that many points. Face\n",
    "    cards ('J', 'Q', and 'K') are worth 10 points. 'A' can count for 1 or 11.\n",
    "    \n",
    "    When determining a hand's total, you should try to count aces in the way that \n",
    "    maximizes the hand's total without going over 21. e.g. the total of ['A', 'A', '9'] is 21,\n",
    "    the total of ['A', 'A', '9', '3'] is 14.\n",
    "    \n",
    "    Examples:\n",
    "    >>> blackjack_hand_greater_than(['K'], ['3', '4'])\n",
    "    True\n",
    "    >>> blackjack_hand_greater_than(['K'], ['10'])\n",
    "    False\n",
    "    >>> blackjack_hand_greater_than(['K', 'K', '2'], ['3'])\n",
    "    False\n",
    "    \"\"\"\n",
    "    \n",
    "    \n",
    "    \"\"\"Helper function to calculate the total points of a blackjack hand.\n",
    "    \"\"\"\n",
    "    total = 0\n",
    "    # Count the number of aces and deal with how to apply them at the end.\n",
    "    aces = 0\n",
    "    for card in hand:\n",
    "        if card in ['J', 'Q', 'K']:\n",
    "            total += 10\n",
    "        elif card == 'A':\n",
    "            aces += 1\n",
    "        else:\n",
    "            # Convert number cards (e.g. '7') to ints\n",
    "            total += int(card)\n",
    "    # At this point, total is the sum of this hand's cards *not counting aces*.\n",
    "\n",
    "    # Add aces, counting them as 1 for now. This is the smallest total we can make from this hand\n",
    "    total += aces\n",
    "    # \"Upgrade\" aces from 1 to 11 as long as it helps us get closer to 21\n",
    "    # without busting\n",
    "    while total + 10 <= 21 and aces > 0:\n",
    "        # Upgrade an ace from 1 to 11\n",
    "        total += 10\n",
    "        aces -= 1\n",
    "    return total\n",
    "\n",
    "def blackjack_hand_greater_than(hand_1, hand_2):\n",
    "    total_1 = hand_total(hand_1)\n",
    "    total_2 = hand_total(hand_2)\n",
    "    return total_1 <= 21 and (total_1 > total_2 or total_2 > 21)\n",
    "\n"
   ]
  },
  {
   "cell_type": "code",
   "execution_count": 20,
   "metadata": {},
   "outputs": [
    {
     "data": {
      "text/plain": [
       "{'2': 2, '3': 3, '4': 4, '5': 5, '6': 6, '7': 7, '8': 8, '9': 9, '10': 10}"
      ]
     },
     "execution_count": 20,
     "metadata": {},
     "output_type": "execute_result"
    }
   ],
   "source": [
    "table={f\"{x}\":x for x in range(2,11)}  # creates a dictionary\n",
    "table"
   ]
  },
  {
   "cell_type": "code",
   "execution_count": null,
   "metadata": {},
   "outputs": [],
   "source": [
    "# option #2\n",
    "def hand_score(hand):\n",
    "    lookup_table={f\"{x}\":x for x in range(2,11)}\n",
    "    lookup_table.update({\"J\":10, \"K\":10, \"J\":10})\n",
    "    hand_score=0\n",
    "    hand_aces=0\n",
    "    for item in hand:\n",
    "        if item in lookup_table:\n",
    "            hand_score +=lookup_tble[item]\n",
    "        else:\n",
    "            hand_aces+=1\n",
    "            hand_score+=1\n",
    "    \n",
    "    for i in range(hand_aces):  # if zero aces this wont run\n",
    "        if hand_score+10<=21\n",
    "        hand_score+=10\n",
    "    return hand_score\n",
    "\n",
    "def blackjack_hand_greater_than(hand_1, hand_2):\n",
    "    h1 = hand_score(hand_1)\n",
    "    h2 = hand_score(hand_2)\n",
    "    return h1 <= 21 and (h1 > h2 or h2 > 21)"
   ]
  }
 ],
 "metadata": {
  "kernelspec": {
   "display_name": "Python 3",
   "language": "python",
   "name": "python3"
  },
  "language_info": {
   "codemirror_mode": {
    "name": "ipython",
    "version": 3
   },
   "file_extension": ".py",
   "mimetype": "text/x-python",
   "name": "python",
   "nbconvert_exporter": "python",
   "pygments_lexer": "ipython3",
   "version": "3.6.5"
  }
 },
 "nbformat": 4,
 "nbformat_minor": 4
}
