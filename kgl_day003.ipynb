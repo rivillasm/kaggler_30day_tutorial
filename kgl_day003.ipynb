{
 "cells": [
  {
   "cell_type": "code",
   "execution_count": 6,
   "metadata": {},
   "outputs": [
    {
     "name": "stdout",
     "output_type": "stream",
     "text": [
      "3.14\n"
     ]
    }
   ],
   "source": [
    "def round_to_2_places(num):\n",
    "    \"\"\" round a num to a two decimal places\n",
    "    round_to_2_places(3.1416) outputs 3.14 \"\"\"\n",
    "    return round(num,2)\n",
    "\n",
    "num=3.1416\n",
    "print(round_to_2_places(num))\n",
    "\n",
    "    "
   ]
  },
  {
   "cell_type": "code",
   "execution_count": 13,
   "metadata": {},
   "outputs": [
    {
     "name": "stdout",
     "output_type": "stream",
     "text": [
      "0.0\n",
      "338420\n",
      "338400\n"
     ]
    }
   ],
   "source": [
    "def round_to_2_places(num, arg):\n",
    "    \"\"\" round a num to a two decimal places\n",
    "    round_to_2_places(3.1416) outputs 3.14 \n",
    "    As you've seen, ndigits=-1 rounds to the nearest 10, ndigits=-2 rounds to the nearest 100\n",
    "    \"\"\"\n",
    "    return round(num,arg)\n",
    "\n",
    "num=3.1416\n",
    "print(round_to_2_places(num, -2))\n",
    "\n",
    "num=338424\n",
    "\n",
    "print(round_to_2_places(num, -1))\n",
    "print(round_to_2_places(num, -2))"
   ]
  },
  {
   "cell_type": "code",
   "execution_count": 15,
   "metadata": {},
   "outputs": [
    {
     "name": "stdout",
     "output_type": "stream",
     "text": [
      "1\n"
     ]
    }
   ],
   "source": [
    "def to_smash(total_candies, arg=3):\n",
    "    \"\"\"Return the number of leftover candies that must be smashed after distributing\n",
    "    the given number of candies evenly between 3 friends.\n",
    "    \n",
    "    >>> to_smash(91) outputs  1\n",
    "    \"\"\"\n",
    "    return total_candies % arg\n",
    "\n",
    "n_candies=91\n",
    "n_friends=3\n",
    "print(to_smash(n_candies,n_friends))"
   ]
  },
  {
   "cell_type": "code",
   "execution_count": 17,
   "metadata": {},
   "outputs": [
    {
     "name": "stdout",
     "output_type": "stream",
     "text": [
      "5\n"
     ]
    }
   ],
   "source": [
    "def f(x):\n",
    "     y = abs(x)\n",
    "     return y\n",
    "\n",
    "print(f(-5))"
   ]
  },
  {
   "cell_type": "code",
   "execution_count": null,
   "metadata": {},
   "outputs": [],
   "source": []
  }
 ],
 "metadata": {
  "kernelspec": {
   "display_name": "Python 3",
   "language": "python",
   "name": "python3"
  },
  "language_info": {
   "codemirror_mode": {
    "name": "ipython",
    "version": 3
   },
   "file_extension": ".py",
   "mimetype": "text/x-python",
   "name": "python",
   "nbconvert_exporter": "python",
   "pygments_lexer": "ipython3",
   "version": "3.6.5"
  }
 },
 "nbformat": 4,
 "nbformat_minor": 4
}
